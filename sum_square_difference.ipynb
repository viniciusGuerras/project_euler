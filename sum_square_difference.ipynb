{
 "cells": [
  {
   "cell_type": "markdown",
   "metadata": {},
   "source": [
    "# Sum Square Difference"
   ]
  },
  {
   "cell_type": "markdown",
   "metadata": {},
   "source": [
    "## Problem Statement -\n",
    "The sum of the squares of the first ten natural numbers is,\n",
    "$$1^2 +2^2+...+10^2=385.$$\n",
    "The square of the sum of the first ten natural numbers is,\n",
    "$$(1+ 2+... +10)^2 = 55^2 = 3025.$$\n",
    "Hence the difference between the sum of the squares of the first ten natural numbers and the square of the sum is\n",
    "$$3025 - 385 = 2640.$$\n",
    "Find the difference between the sum of the squares of the first one hundred natural numbers and the square of the sum."
   ]
  },
  {
   "cell_type": "markdown",
   "metadata": {},
   "source": [
    "## Answers -"
   ]
  },
  {
   "cell_type": "markdown",
   "metadata": {
    "vscode": {
     "languageId": "plaintext"
    }
   },
   "source": [
    "## Vini's-logic (human, some minutes)"
   ]
  },
  {
   "cell_type": "markdown",
   "metadata": {},
   "source": [
    "- Ok, we need to find the difference between $$1^2 +2^2+...+100^2.$$ and $$(1+ 2+... +100)^2 .$$"
   ]
  },
  {
   "cell_type": "markdown",
   "metadata": {},
   "source": [
    "- For the **squared sum** i can easily sum the inner components (Gauss Summation)\n",
    "$$100 + 1 = 101,\n",
    "99+2=101,\n",
    "\\cdots,51 + 50 = 101\n",
    "$$\n",
    "- Then square the result"
   ]
  },
  {
   "cell_type": "code",
   "execution_count": 43,
   "metadata": {},
   "outputs": [
    {
     "name": "stdout",
     "output_type": "stream",
     "text": [
      "the square of the sum is: 25502500\n"
     ]
    }
   ],
   "source": [
    "squared_sum = (101 * 50) ** 2\n",
    "print(f\"the square of the sum is: {squared_sum}\")"
   ]
  },
  {
   "cell_type": "markdown",
   "metadata": {},
   "source": [
    "- Now, for the **sum of squares** i need to think of a logical, simpler way to do it\n",
    "- For each number we have he's multiplied to himself\n",
    "- One thing we could do is separate the even from the not-even numbers\n",
    "- For the even part $2^2 + 4^2 + 6^2 +\\cdots+100^2$ i can write some part of it like this (for multiples of 2):\n",
    "$$(2^1)^2 + (2^2)^2 + (2^3)^2 + \\cdots + (2^6)^2$$\n",
    "- This was of no help, i'll just calculate it"
   ]
  },
  {
   "cell_type": "code",
   "execution_count": 44,
   "metadata": {},
   "outputs": [
    {
     "name": "stdout",
     "output_type": "stream",
     "text": [
      "the sum of squares is: 338350\n"
     ]
    }
   ],
   "source": [
    "sum_squares=0\n",
    "for i in range(1, 101):\n",
    "    sum_squares+=i**2\n",
    "print(f\"the sum of squares is: {sum_squares}\")\n"
   ]
  },
  {
   "cell_type": "markdown",
   "metadata": {},
   "source": [
    "- finally we calculate the difference:"
   ]
  },
  {
   "cell_type": "code",
   "execution_count": 45,
   "metadata": {},
   "outputs": [
    {
     "name": "stdout",
     "output_type": "stream",
     "text": [
      "the result is: 25164150\n"
     ]
    }
   ],
   "source": [
    "print(f\"the result is: {squared_sum - sum_squares}\")"
   ]
  },
  {
   "cell_type": "markdown",
   "metadata": {},
   "source": [
    "## O3-mini (17 seconds)"
   ]
  },
  {
   "cell_type": "markdown",
   "metadata": {},
   "source": [
    "### Logic:\n",
    "\n",
    "1. **Sum of the first $n$ natural numbers:**\n",
    "   $$\n",
    "   S = 1 + 2 + \\dots + n = \\frac{n(n+1)}{2}\n",
    "   $$\n",
    "\n",
    "2. **Square of the sum:**\n",
    "   $$\n",
    "   \\text{Square of Sum} = S^2 = \\left(\\frac{n(n+1)}{2}\\right)^2\n",
    "   $$\n",
    "\n",
    "3. **Sum of the squares of the first $n$ natural numbers:**\n",
    "   $$\n",
    "   Q = 1^2 + 2^2 + \\dots + n^2 = \\frac{n(n+1)(2n+1)}{6}\n",
    "   $$\n",
    "\n",
    "4. **Difference between the square of the sum and the sum of squares:**\n",
    "   $$\n",
    "   \\text{Difference} = \\text{Square of Sum} - Q\n",
    "   $$\n",
    "\n",
    "For $n = 100$, we substitute the values into the formulas.\n"
   ]
  },
  {
   "cell_type": "code",
   "execution_count": 46,
   "metadata": {},
   "outputs": [
    {
     "name": "stdout",
     "output_type": "stream",
     "text": [
      "The difference is: 25164150\n"
     ]
    }
   ],
   "source": [
    "# Define the number of natural numbers\n",
    "n = 100\n",
    "\n",
    "# Calculate the sum of the first n natural numbers\n",
    "sum_of_numbers = n * (n + 1) // 2\n",
    "# Square of the sum\n",
    "square_of_sum = sum_of_numbers ** 2\n",
    "\n",
    "# Calculate the sum of the squares of the first n natural numbers\n",
    "sum_of_squares = n * (n + 1) * (2 * n + 1) // 6\n",
    "\n",
    "# Compute the difference between the square of the sum and the sum of squares\n",
    "difference = square_of_sum - sum_of_squares\n",
    "\n",
    "# Display the result\n",
    "print(\"The difference is:\", difference)\n"
   ]
  },
  {
   "cell_type": "markdown",
   "metadata": {},
   "source": [
    "## DeepSeek-R1 (79 seconds)"
   ]
  },
  {
   "cell_type": "markdown",
   "metadata": {},
   "source": [
    "To solve the problem of finding the difference between the sum of the squares of the first 100 natural numbers and the square of their sum, we can utilize mathematical formulas for efficiency and accuracy.\n",
    "\n",
    "Approach\n",
    "**Sum of Squares Formula**: The sum of the squares of the first n natural numbers is given by:\n",
    "\n",
    "$$\\text{Sum of Squares} = \\frac{n ( n + 1) ( 2 n + 1)}{6}$$\n",
    " \n",
    "**Square of the Sum Formula**: The square of the sum of the first n natural numbers is derived from the arithmetic series formula:\n",
    "\n",
    "$$Sum = \\frac{n ( n + 1)}{2}$$ \n",
    "​\n",
    " \n",
    "Squaring this sum gives the desired value.\n",
    "\n",
    "Difference Calculation: Subtract the sum of the squares from the square of the sum to get the result."
   ]
  },
  {
   "cell_type": "code",
   "execution_count": 47,
   "metadata": {},
   "outputs": [
    {
     "name": "stdout",
     "output_type": "stream",
     "text": [
      "The difference is: 25164150\n"
     ]
    }
   ],
   "source": [
    "n = 100\n",
    "sum_of_squares = n * (n + 1) * (2 * n + 1) // 6\n",
    "square_of_sum = (n * (n + 1) // 2) ** 2\n",
    "difference = square_of_sum - sum_of_squares\n",
    "print(f\"The difference is: {difference}\")"
   ]
  }
 ],
 "metadata": {
  "kernelspec": {
   "display_name": "Python 3",
   "language": "python",
   "name": "python3"
  },
  "language_info": {
   "codemirror_mode": {
    "name": "ipython",
    "version": 3
   },
   "file_extension": ".py",
   "mimetype": "text/x-python",
   "name": "python",
   "nbconvert_exporter": "python",
   "pygments_lexer": "ipython3",
   "version": "3.12.1"
  }
 },
 "nbformat": 4,
 "nbformat_minor": 2
}
