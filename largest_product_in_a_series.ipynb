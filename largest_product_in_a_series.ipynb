{
 "cells": [
  {
   "cell_type": "markdown",
   "metadata": {},
   "source": [
    "# Largest Product in a Series"
   ]
  },
  {
   "cell_type": "markdown",
   "metadata": {},
   "source": [
    "## Problem Statement -"
   ]
  },
  {
   "cell_type": "markdown",
   "metadata": {},
   "source": [
    "\n",
    "The four adjacent digits in the 1000-digit number that have the greatest product are 9 × 9 × 8 × 9 = 5832.\n",
    "\n",
    "$$73167176531330624919225119674426574742355349194934\\\\\n",
    "\n",
    "96983520312774506326239578318016984801869478851843\\\\\n",
    "\n",
    "85861560789112949495459501737958331952853208805511\\\\\n",
    "\n",
    "12540698747158523863050715693290963295227443043557\\\\\n",
    "\n",
    "66896648950445244523161731856403098711121722383113\\\\\n",
    "\n",
    "62229893423380308135336276614282806444486645238749\\\\\n",
    "\n",
    "30358907296290491560440772390713810515859307960866\\\\\n",
    "\n",
    "70172427121883998797908792274921901699720888093776\\\\\n",
    "\n",
    "65727333001053367881220235421809751254540594752243\\\\\n",
    "\n",
    "52584907711670556013604839586446706324415722155397\\\\\n",
    "\n",
    "53697817977846174064955149290862569321978468622482\\\\\n",
    "\n",
    "83972241375657056057490261407972968652414535100474\\\\\n",
    "\n",
    "82166370484403199890008895243450658541227588666881\\\\\n",
    "\n",
    "16427171479924442928230863465674813919123162824586\\\\\n",
    "\n",
    "17866458359124566529476545682848912883142607690042\\\\\n",
    "\n",
    "24219022671055626321111109370544217506941658960408\\\\\n",
    "\n",
    "07198403850962455444362981230987879927244284909188\\\\\n",
    "\n",
    "84580156166097919133875499200524063689912560717606\\\\\n",
    "\n",
    "05886116467109405077541002256983155200055935729725\\\\\n",
    "\n",
    "71636269561882670428252483600823257530420752963450$$\n",
    "\n",
    "Find the thirteen adjacent digits in the 1000-digit number that have the greatest product. What is the value of this product?"
   ]
  },
  {
   "cell_type": "markdown",
   "metadata": {},
   "source": [
    "## Answers -"
   ]
  },
  {
   "cell_type": "markdown",
   "metadata": {},
   "source": [
    "## Vini's-logic (human, some minutes)"
   ]
  },
  {
   "cell_type": "markdown",
   "metadata": {},
   "source": [
    "- I'll simply not try to find a clever method to this one\n",
    "- Let's use a sliding window: https://www.geeksforgeeks.org/window-sliding-technique/"
   ]
  },
  {
   "cell_type": "code",
   "execution_count": 16,
   "metadata": {},
   "outputs": [
    {
     "name": "stdout",
     "output_type": "stream",
     "text": [
      "the largest 13 number product was: 23514624000\n"
     ]
    }
   ],
   "source": [
    "number = 7316717653133062491922511967442657474235534919493496983520312774506326239578318016984801869478851843858615607891129494954595017379583319528532088055111254069874715852386305071569329096329522744304355766896648950445244523161731856403098711121722383113622298934233803081353362766142828064444866452387493035890729629049156044077239071381051585930796086670172427121883998797908792274921901699720888093776657273330010533678812202354218097512545405947522435258490771167055601360483958644670632441572215539753697817977846174064955149290862569321978468622482839722413756570560574902614079729686524145351004748216637048440319989000889524345065854122758866688116427171479924442928230863465674813919123162824586178664583591245665294765456828489128831426076900422421902267105562632111110937054421750694165896040807198403850962455444362981230987879927244284909188845801561660979191338754992005240636899125607176060588611646710940507754100225698315520005593572972571636269561882670428252483600823257530420752963450\n",
    "number = str(number)\n",
    "size = len(number)\n",
    "\n",
    "largest = 0\n",
    "for i in range (size - 13):\n",
    "    temp = 1\n",
    "    for j in range (13):\n",
    "        temp *= int(number[j + i])\n",
    "\n",
    "    if largest < temp: largest = temp\n",
    "\n",
    "print(f\"the largest 13 number product was: {largest}\")\n"
   ]
  },
  {
   "cell_type": "markdown",
   "metadata": {},
   "source": [
    "## O3-mini (17 seconds)"
   ]
  },
  {
   "cell_type": "markdown",
   "metadata": {},
   "source": [
    "## Explanation of the Logic:\n",
    "### Defining the Number:\n",
    "The 1000-digit number is stored as a single string by concatenating multiple string literals.\n",
    "\n",
    "### Conversion to Digits:\n",
    "Each character in the string is converted to an integer so that arithmetic operations can be performed.\n",
    "\n",
    "### Sliding Window Approach:\n",
    "We use a loop that moves a \"window\" of 13 digits across the entire list. For each window, the product of its 13 digits is computed.\n",
    "\n",
    "### Tracking the Maximum Product:\n",
    "If the computed product for the current group exceeds the maximum found so far, we update the maximum.\n",
    "\n",
    "Output:\n",
    "Finally, the maximum product is printed."
   ]
  },
  {
   "cell_type": "code",
   "execution_count": 17,
   "metadata": {},
   "outputs": [
    {
     "name": "stdout",
     "output_type": "stream",
     "text": [
      "The maximum product of thirteen adjacent digits is: 23514624000\n"
     ]
    }
   ],
   "source": [
    "# Define the 1000-digit number as a multi-line string.\n",
    "number_str = (\n",
    "    \"73167176531330624919225119674426574742355349194934\"\n",
    "    \"96983520312774506326239578318016984801869478851843\"\n",
    "    \"85861560789112949495459501737958331952853208805511\"\n",
    "    \"12540698747158523863050715693290963295227443043557\"\n",
    "    \"66896648950445244523161731856403098711121722383113\"\n",
    "    \"62229893423380308135336276614282806444486645238749\"\n",
    "    \"30358907296290491560440772390713810515859307960866\"\n",
    "    \"70172427121883998797908792274921901699720888093776\"\n",
    "    \"65727333001053367881220235421809751254540594752243\"\n",
    "    \"52584907711670556013604839586446706324415722155397\"\n",
    "    \"53697817977846174064955149290862569321978468622482\"\n",
    "    \"83972241375657056057490261407972968652414535100474\"\n",
    "    \"82166370484403199890008895243450658541227588666881\"\n",
    "    \"16427171479924442928230863465674813919123162824586\"\n",
    "    \"17866458359124566529476545682848912883142607690042\"\n",
    "    \"24219022671055626321111109370544217506941658960408\"\n",
    "    \"07198403850962455444362981230987879927244284909188\"\n",
    "    \"84580156166097919133875499200524063689912560717606\"\n",
    "    \"05886116467109405077541002256983155200055935729725\"\n",
    "    \"71636269561882670428252483600823257530420752963450\"\n",
    ")\n",
    "\n",
    "# Convert the string into a list of integers.\n",
    "digits = [int(digit) for digit in number_str]\n",
    "\n",
    "# Set the number of adjacent digits.\n",
    "adjacent_count = 13\n",
    "\n",
    "# Initialize the maximum product.\n",
    "max_product = 0\n",
    "\n",
    "# Loop through the number to calculate the product of every 13 adjacent digits.\n",
    "for i in range(len(digits) - adjacent_count + 1):\n",
    "    product = 1\n",
    "    for j in range(adjacent_count):\n",
    "        product *= digits[i + j]\n",
    "    if product > max_product:\n",
    "        max_product = product\n",
    "\n",
    "print(\"The maximum product of thirteen adjacent digits is:\", max_product)\n"
   ]
  },
  {
   "cell_type": "markdown",
   "metadata": {},
   "source": [
    "## DeepSeek-R1 (309 seconds)"
   ]
  },
  {
   "cell_type": "markdown",
   "metadata": {},
   "source": [
    "### Approach\n",
    "Input Handling: The $1000$-digit number is provided as a multi-line string. We first combine these lines into a single continuous string.\n",
    "\n",
    "Conversion to Digits: Convert the continuous string into a list of integers where each character in the string is converted to an integer.\n",
    "\n",
    "Sliding Window Technique: Use a sliding window of size 13 to iterate through the list of digits. For each window:\n",
    "\n",
    "Check if the window contains a zero. If it does, skip further calculations for this window as the product will be zero.\n",
    "\n",
    "Compute the product of the digits in the window if there are no zeros.\n",
    "\n",
    "Update the maximum product if the current product is greater than the previously recorded maximum."
   ]
  },
  {
   "cell_type": "code",
   "execution_count": 18,
   "metadata": {},
   "outputs": [
    {
     "name": "stdout",
     "output_type": "stream",
     "text": [
      "The maximum product of thirteen adjacent digits is: 23514624000\n"
     ]
    }
   ],
   "source": [
    "# Step 1: Define the 1000-digit number as a continuous string.\n",
    "# The number is provided as multiple concatenated string literals for clarity.\n",
    "number_str = (\n",
    "    \"73167176531330624919225119674426574742355349194934\"\n",
    "    \"96983520312774506326239578318016984801869478851843\"\n",
    "    \"85861560789112949495459501737958331952853208805511\"\n",
    "    \"12540698747158523863050715693290963295227443043557\"\n",
    "    \"66896648950445244523161731856403098711121722383113\"\n",
    "    \"62229893423380308135336276614282806444486645238749\"\n",
    "    \"30358907296290491560440772390713810515859307960866\"\n",
    "    \"70172427121883998797908792274921901699720888093776\"\n",
    "    \"65727333001053367881220235421809751254540594752243\"\n",
    "    \"52584907711670556013604839586446706324415722155397\"\n",
    "    \"53697817977846174064955149290862569321978468622482\"\n",
    "    \"83972241375657056057490261407972968652414535100474\"\n",
    "    \"82166370484403199890008895243450658541227588666881\"\n",
    "    \"16427171479924442928230863465674813919123162824586\"\n",
    "    \"17866458359124566529476545682848912883142607690042\"\n",
    "    \"24219022671055626321111109370544217506941658960408\"\n",
    "    \"07198403850962455444362981230987879927244284909188\"\n",
    "    \"84580156166097919133875499200524063689912560717606\"\n",
    "    \"05886116467109405077541002256983155200055935729725\"\n",
    "    \"71636269561882670428252483600823257530420752963450\"\n",
    ")\n",
    "\n",
    "# Step 2: Convert the number string into a list of integer digits.\n",
    "# This lets us perform arithmetic operations on each individual digit.\n",
    "digits = [int(digit) for digit in number_str]\n",
    "\n",
    "# Step 3: Define the number of adjacent digits to consider.\n",
    "# For this problem, we are interested in 13 adjacent digits.\n",
    "adjacent_count = 13\n",
    "\n",
    "# Step 4: Initialize a variable to store the maximum product found.\n",
    "max_product = 0\n",
    "\n",
    "# Step 5: Loop over every possible group of 13 adjacent digits in the list.\n",
    "# The range is calculated so that we do not run off the end of the list.\n",
    "for i in range(len(digits) - adjacent_count + 1):\n",
    "    # Start with a product of 1 for each group.\n",
    "    product = 1\n",
    "    \n",
    "    # Multiply the 13 adjacent digits together.\n",
    "    for j in range(adjacent_count):\n",
    "        product *= digits[i + j]\n",
    "    \n",
    "    # If the product of the current group is greater than the maximum found so far,\n",
    "    # update the max_product variable.\n",
    "    if product > max_product:\n",
    "        max_product = product\n",
    "\n",
    "# Step 6: Output the result.\n",
    "print(\"The maximum product of thirteen adjacent digits is:\", max_product)\n"
   ]
  }
 ],
 "metadata": {
  "kernelspec": {
   "display_name": "Python 3",
   "language": "python",
   "name": "python3"
  },
  "language_info": {
   "codemirror_mode": {
    "name": "ipython",
    "version": 3
   },
   "file_extension": ".py",
   "mimetype": "text/x-python",
   "name": "python",
   "nbconvert_exporter": "python",
   "pygments_lexer": "ipython3",
   "version": "3.11.9"
  }
 },
 "nbformat": 4,
 "nbformat_minor": 2
}
