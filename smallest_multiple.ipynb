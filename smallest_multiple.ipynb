{
 "cells": [
  {
   "cell_type": "markdown",
   "metadata": {},
   "source": [
    "# Smallest Multiple"
   ]
  },
  {
   "cell_type": "markdown",
   "metadata": {},
   "source": [
    "## Problem Statement -\n",
    "$2520$ is the smallest number that can be divided by each of the numbers from \n",
    "$1$ to $10$ without any remainder.\n",
    "\n",
    "What is the smallest positive number that is **evenly divisible** by all of the numbers from \n",
    "**1** to **20**?"
   ]
  },
  {
   "cell_type": "markdown",
   "metadata": {},
   "source": [
    "## Answers -"
   ]
  },
  {
   "cell_type": "markdown",
   "metadata": {},
   "source": [
    "## Vini's-logic (human with search assistance, some hours)"
   ]
  },
  {
   "cell_type": "markdown",
   "metadata": {},
   "source": [
    "imports:"
   ]
  },
  {
   "cell_type": "code",
   "execution_count": 162,
   "metadata": {},
   "outputs": [],
   "source": [
    "import math"
   ]
  },
  {
   "cell_type": "markdown",
   "metadata": {},
   "source": [
    "- First, i want to explore how the **2520** relates with the numbers $1\\to 10$"
   ]
  },
  {
   "cell_type": "code",
   "execution_count": 163,
   "metadata": {},
   "outputs": [
    {
     "name": "stdout",
     "output_type": "stream",
     "text": [
      "2520/1: 2520.0\n",
      "2520/2: 1260.0\n",
      "2520/3: 840.0\n",
      "2520/4: 630.0\n",
      "2520/5: 504.0\n",
      "2520/6: 420.0\n",
      "2520/7: 360.0\n",
      "2520/8: 315.0\n",
      "2520/9: 280.0\n",
      "2520/10: 252.0\n"
     ]
    }
   ],
   "source": [
    "for i in range (1, 11):\n",
    "    print(f\"2520/{i}: {2520/i}\")"
   ]
  },
  {
   "cell_type": "markdown",
   "metadata": {},
   "source": [
    "- It would be fun to make a big for loop and 10 module statements checkig if its the correct number\n",
    "- The difference between the numbers above are:"
   ]
  },
  {
   "cell_type": "code",
   "execution_count": 164,
   "metadata": {},
   "outputs": [
    {
     "name": "stdout",
     "output_type": "stream",
     "text": [
      "2520.0-1260.0: 1260\n",
      "1260.0-840.0: 420\n",
      "840.0-630.0: 210\n",
      "630.0-504.0: 126\n",
      "504.0-420.0: 84\n",
      "420.0-360.0: 60\n",
      "360.0-315.0: 45\n",
      "315.0-280.0: 35\n",
      "280.0-252.0: 28\n"
     ]
    }
   ],
   "source": [
    "for i in range (1, 10):\n",
    "    print(f\"{2520/i}-{2520/(i+1)}: {int(2520/i - 2520/(i+1))}\")"
   ]
  },
  {
   "cell_type": "markdown",
   "metadata": {},
   "source": [
    "- This doesn't help me, there's some minor relations between them but nothing imporant ($28=7\\cdot4\n",
    ", 35=7\\cdot5$ and $210\\cdot2=420, 420\\cdot3=1260$)\n",
    "- Another cool relation, after the even $28$ we have three numbers that end up in $0$ or $5$, then two even $84$ and $126$ and again three with $0$ or $5$\n",
    "- i have no other idea of a relation that could give us an answer.\n",
    "- LET'S BRUTE FORCE IT!!!"
   ]
  },
  {
   "cell_type": "markdown",
   "metadata": {},
   "source": [
    "- Below i made a simple function to check for divisibility to all number $1\\to20$"
   ]
  },
  {
   "cell_type": "code",
   "execution_count": 165,
   "metadata": {},
   "outputs": [],
   "source": [
    "def isDivisibleByAllOfThis(x):\n",
    "    for i in range(1, 21):\n",
    "        if x%i!=0:\n",
    "            return False\n",
    "    return True"
   ]
  },
  {
   "cell_type": "markdown",
   "metadata": {},
   "source": [
    "- Then i'll call it in a main function"
   ]
  },
  {
   "cell_type": "code",
   "execution_count": 166,
   "metadata": {},
   "outputs": [],
   "source": [
    "def main():\n",
    "    number = 2\n",
    "    while not isDivisibleByAllOfThis(number):\n",
    "        number+=1\n",
    "    return number\n"
   ]
  },
  {
   "cell_type": "markdown",
   "metadata": {},
   "source": [
    "- Mega inefficient, I'll do a bit of research\n",
    "- Let's try prime factorization (im looking at some sources now, not my thougts only)"
   ]
  },
  {
   "cell_type": "code",
   "execution_count": 167,
   "metadata": {},
   "outputs": [],
   "source": [
    "def is_prime(x):\n",
    "    for i in range(2, math.isqrt(x) + 1):\n",
    "        if x%i==0:\n",
    "            return False\n",
    "    return True"
   ]
  },
  {
   "cell_type": "code",
   "execution_count": 168,
   "metadata": {},
   "outputs": [
    {
     "data": {
      "text/plain": [
       "[2, 3, 5, 7, 11, 13, 17, 19]"
      ]
     },
     "execution_count": 168,
     "metadata": {},
     "output_type": "execute_result"
    }
   ],
   "source": [
    "prime_numbers = [x for x in range (2, 21) if is_prime(x)]\n",
    "prime_numbers"
   ]
  },
  {
   "cell_type": "markdown",
   "metadata": {},
   "source": [
    "- now let's make a function to count prime factors"
   ]
  },
  {
   "cell_type": "code",
   "execution_count": 169,
   "metadata": {},
   "outputs": [],
   "source": [
    "def prime_factors(x):\n",
    "    factors = {prime:0 for prime in prime_numbers}\n",
    "    for prime in prime_numbers:\n",
    "        while x%prime==0:\n",
    "            factors[prime]+=1;\n",
    "            x //=prime\n",
    "    return factors"
   ]
  },
  {
   "cell_type": "markdown",
   "metadata": {},
   "source": [
    "- And now use it the new function"
   ]
  },
  {
   "cell_type": "code",
   "execution_count": 170,
   "metadata": {},
   "outputs": [
    {
     "name": "stdout",
     "output_type": "stream",
     "text": [
      "232792560\n"
     ]
    }
   ],
   "source": [
    "factors = {prime: 1 for prime in prime_numbers}\n",
    "\n",
    "for i in range(2,21):\n",
    "    for prime, count in prime_factors(i).items():\n",
    "       factors[prime] = max(count, factors[prime]) \n",
    "\n",
    "result = 1\n",
    "for prime, count in factors.items():\n",
    "    result *= prime ** count\n",
    "\n",
    "print(result)"
   ]
  },
  {
   "cell_type": "markdown",
   "metadata": {},
   "source": [
    "- For this answer i studied this souce: https://www.grae.io/post/euler_problem_5/\n",
    "- The code is very similar, but that's how I learn, practice."
   ]
  },
  {
   "cell_type": "markdown",
   "metadata": {},
   "source": [
    "## O3-mini (6 seconds)\n"
   ]
  },
  {
   "cell_type": "markdown",
   "metadata": {},
   "source": [
    "### Finding the Smallest Number Divisible by 1 to 20\n",
    "\n",
    "This notebook computes the smallest positive number that is evenly divisible by all of the numbers from 1 to 20. \n",
    "\n",
    "We achieve this by finding the least common multiple (LCM) of the numbers 1 through 20. The LCM of two numbers can be computed using the formula:\n",
    "\n",
    "$$\n",
    "\\text{LCM}(a, b) = \\frac{a \\times b}{\\text{GCD}(a, b)}\n",
    "$$\n",
    "\n",
    "where GCD is the greatest common divisor. We iteratively apply this formula across the range of numbers.\n"
   ]
  },
  {
   "cell_type": "code",
   "execution_count": 171,
   "metadata": {},
   "outputs": [
    {
     "name": "stdout",
     "output_type": "stream",
     "text": [
      "The smallest positive number evenly divisible by all numbers from 1 to 20 is: 232792560\n"
     ]
    }
   ],
   "source": [
    "import math\n",
    "\n",
    "def lcm(a, b):\n",
    "    \"\"\"Return the least common multiple of a and b.\"\"\"\n",
    "    return a * b // math.gcd(a, b)\n",
    "\n",
    "# Initialize result to 1\n",
    "result = 1\n",
    "\n",
    "# Iteratively compute LCM for numbers 1 through 20\n",
    "for i in range(1, 21):\n",
    "    result = lcm(result, i)\n",
    "\n",
    "print(\"The smallest positive number evenly divisible by all numbers from 1 to 20 is:\", result)\n"
   ]
  },
  {
   "cell_type": "markdown",
   "metadata": {},
   "source": [
    "## DeepSeek-R1 (81 seconds)"
   ]
  },
  {
   "cell_type": "markdown",
   "metadata": {},
   "source": [
    "Logic:\n",
    "To find the smallest number divisible by all integers from 1 to 20, compute the Least Common Multiple (LCM) of these numbers. The LCM is derived by multiplying the highest powers of all prime factors within the range. For example:\n",
    "\n",
    "Prime 2 appears as 2 4 = 16 2 4 =16 (since 2 5 = 32 > 20 2 5 =32>20).\n",
    "\n",
    "Prime 3 appears as 3 2 = 9 3 2 =9 (since 3 3 = 27 > 20 3 3 =27>20).\n",
    "\n",
    "Primes like 5, 7, etc., only need their first power (since their squares exceed 20).\n",
    "\n",
    "Multiply all these prime powers together to get the LCM."
   ]
  },
  {
   "cell_type": "code",
   "execution_count": 172,
   "metadata": {},
   "outputs": [
    {
     "name": "stdout",
     "output_type": "stream",
     "text": [
      "232792560\n"
     ]
    }
   ],
   "source": [
    "def smallest_divisible(n):\n",
    "    primes = []\n",
    "    for num in range(2, n + 1):\n",
    "        if all(num % i != 0 for i in range(2, int(num**0.5) + 1)):\n",
    "            primes.append(num)\n",
    "    \n",
    "    result = 1\n",
    "    for p in primes:\n",
    "        max_exp = 1\n",
    "        while p ** (max_exp + 1) <= n:\n",
    "            max_exp += 1\n",
    "        result *= p ** max_exp\n",
    "    return result\n",
    "\n",
    "print(smallest_divisible(20))  # Output: 232792560"
   ]
  }
 ],
 "metadata": {
  "kernelspec": {
   "display_name": "Python 3",
   "language": "python",
   "name": "python3"
  },
  "language_info": {
   "codemirror_mode": {
    "name": "ipython",
    "version": 3
   },
   "file_extension": ".py",
   "mimetype": "text/x-python",
   "name": "python",
   "nbconvert_exporter": "python",
   "pygments_lexer": "ipython3",
   "version": "3.11.9"
  }
 },
 "nbformat": 4,
 "nbformat_minor": 2
}
