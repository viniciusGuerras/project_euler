{
 "cells": [
  {
   "cell_type": "markdown",
   "metadata": {},
   "source": [
    "# Largest Palindrome Product"
   ]
  },
  {
   "cell_type": "markdown",
   "metadata": {},
   "source": [
    "\n",
    "## Problem Statement -\n",
    "A palindromic number reads the same both ways. The largest palindrome made from the product of two \n",
    "2-digit numbers is.\n",
    "$9009=91\\cdot99$.\n",
    "\n",
    "Find the largest palindrome made from the product of two 3-digit numbers."
   ]
  },
  {
   "cell_type": "markdown",
   "metadata": {},
   "source": [
    "## Answers -"
   ]
  },
  {
   "cell_type": "markdown",
   "metadata": {},
   "source": [
    "## Vini's-logic (human)\n",
    "Result:**CORRECT**."
   ]
  },
  {
   "cell_type": "markdown",
   "metadata": {},
   "source": [
    "- We have to find two numbers $n_1$ and $n_2$ (both with three-digits) that will result in a palindrome.\n",
    "- A palindrome needs to be read equally from both sides.\n",
    "- How do i find an answer?\n",
    "- The first palindromes i can think of (after the single digits) is 11, 22, ... and following this pattern until 99. After that we have 101, 111, 121...\n",
    "- I can't find a visible pattern in them\n",
    "- Some of them are prime numbers (2, 3, 5, 7, 11, ...) but this will not help\n",
    "- The largest three-digit number i can make is $$999\\cdot999=998001$$\n",
    "- I could use brute force but it wouldn't be fun.\n",
    "- We have this simple pattern that does not generalize $1 \\to 9, 11 \\to 99, 101 \\to 191, 202 \\to 292, \\cdots$ (easy palindromes to find, but in bigger numbers it doesn't scale well)\n",
    "- So one of the biggest we could find with this method is $989989$ (don't know if the multipliers for it exist, and did this number randomly)\n",
    "- I'll end up with brute force"
   ]
  },
  {
   "cell_type": "markdown",
   "metadata": {},
   "source": [
    "- did a small search if python can easily reverse a string (converted int to string and back to int)\n",
    "- used slicing to reverse it\n",
    "- i used both the biggest three-digit numbers possible"
   ]
  },
  {
   "cell_type": "code",
   "execution_count": 27,
   "metadata": {},
   "outputs": [],
   "source": [
    "first_1 = 999\n",
    "first_2 = 999\n",
    "\n",
    "def reverseNumber(x):\n",
    "    return int(str(x)[::-1])"
   ]
  },
  {
   "cell_type": "markdown",
   "metadata": {},
   "source": [
    "- then i simply called it in a main function using a loop of the biggest numbers decreasing to 100, because it's the smaller three-digit number.\n",
    "- I also checked if the reverse number has rest of division 0 to the original, comproving the palindrome statement "
   ]
  },
  {
   "cell_type": "markdown",
   "metadata": {},
   "source": [
    "I initially created this version, where I returned the first palindrome found. However, after noticing that the number was too low, I thought about it for a few more minutes. Then I realized that because the first number remained 999 (or some iteration of it) while the other number kept decreasing, we were missing larger palindromes that could be formed from a combination of the two numbers, resulting in a bigger palindrome."
   ]
  },
  {
   "cell_type": "code",
   "execution_count": 28,
   "metadata": {},
   "outputs": [
    {
     "name": "stdout",
     "output_type": "stream",
     "text": [
      "580085\n"
     ]
    }
   ],
   "source": [
    "def main():\n",
    "    for i in range(first_1, 99, -1):\n",
    "        for j in range(first_2, 99, -1):\n",
    "            multiplied = i * j\n",
    "            if reverseNumber(multiplied)%multiplied==0:\n",
    "                return multiplied\n",
    "print(main())\n"
   ]
  },
  {
   "cell_type": "markdown",
   "metadata": {},
   "source": [
    "- Then I made a variable to store the largest known palindrome, and break in case the multiplied values are smaller than this largest one\n",
    "- Returned the largest one found"
   ]
  },
  {
   "cell_type": "code",
   "execution_count": 29,
   "metadata": {},
   "outputs": [
    {
     "name": "stdout",
     "output_type": "stream",
     "text": [
      "906609\n"
     ]
    }
   ],
   "source": [
    "def main():\n",
    "    largest=0\n",
    "    for i in range(first_1, 99, -1):\n",
    "        for j in range(first_2, 99, -1):\n",
    "            multiplied = i * j\n",
    "            if largest >= multiplied:\n",
    "                break\n",
    "            if reverseNumber(multiplied)%multiplied==0:\n",
    "                largest=multiplied\n",
    "\n",
    "    return largest\n",
    "print(main())\n"
   ]
  },
  {
   "cell_type": "markdown",
   "metadata": {},
   "source": [
    "## O3-mini\n",
    "Result:**CORRECT**."
   ]
  },
  {
   "cell_type": "markdown",
   "metadata": {},
   "source": [
    "## Explanation of the Logic\n",
    "Checking for a Palindrome:\n",
    "- We define a function is_palindrome(n) that converts the number to a string and checks whether it reads the same forwards and backwards. This is done by comparing the string with its reverse.\n",
    "\n",
    "Iterating Through Pairs of 3-Digit Numbers:\n",
    "- We use two nested loops to go through all pairs of numbers from 100 to 999. To avoid repeating pairs (for example, both 913×993 and 993×913), the inner loop starts from the current value of the outer loop.\n",
    "\n",
    "Finding the Largest Palindrome:\n",
    "- For each pair, we calculate their product. If the product is a palindrome and is larger than the current maximum palindrome found, we update our maximum value and record the pair of factors.\n",
    "\n",
    "Outputting the Result:\n",
    "- Once all pairs have been checked, we print the largest palindrome along with the two 3-digit numbers that produce it."
   ]
  },
  {
   "cell_type": "code",
   "execution_count": 30,
   "metadata": {},
   "outputs": [
    {
     "name": "stdout",
     "output_type": "stream",
     "text": [
      "The largest palindrome is: 906609\n",
      "It is the product of 913 and 993\n"
     ]
    }
   ],
   "source": [
    "# Function to check if a number is a palindrome.\n",
    "def is_palindrome(n):\n",
    "    \"\"\"\n",
    "    Return True if the number n is a palindrome.\n",
    "    \n",
    "    A palindrome is a number that reads the same forward and backward.\n",
    "    \"\"\"\n",
    "    return str(n) == str(n)[::-1]\n",
    "\n",
    "# Initialize variables to store the maximum palindrome and its corresponding factors.\n",
    "max_pal = 0\n",
    "factors = (0, 0)\n",
    "\n",
    "# Loop through all 3-digit numbers.\n",
    "for i in range(100, 1000):\n",
    "    # Start the inner loop from i to avoid checking duplicate pairs.\n",
    "    for j in range(i, 1000):\n",
    "        product = i * j\n",
    "        # Check if the product is a palindrome and greater than the current max.\n",
    "        if is_palindrome(product) and product > max_pal:\n",
    "            max_pal = product\n",
    "            factors = (i, j)\n",
    "\n",
    "# Output the results.\n",
    "print(\"The largest palindrome is:\", max_pal)\n",
    "print(\"It is the product of\", factors[0], \"and\", factors[1])\n"
   ]
  },
  {
   "cell_type": "markdown",
   "metadata": {},
   "source": [
    "## DeepSeek-R1\n",
    "Result:**CORRECT**."
   ]
  },
  {
   "cell_type": "markdown",
   "metadata": {},
   "source": [
    "## Approach\n",
    "- Palindrome Check: Convert the product to a string and check if it reads the same forwards and backwards.\n",
    "- Iterate from Largest to Smallest: Start from the largest 3-digit numbers (999) and work downwards to avoid redundant checks.\n",
    "\n",
    "## Early Termination:\n",
    "- If the product of the current pair is smaller than the largest palindrome found so far, break the inner loop.\n",
    "- If the maximum possible product for the current outer loop value is smaller than the largest palindrome found, break the outer loop."
   ]
  },
  {
   "cell_type": "code",
   "execution_count": 31,
   "metadata": {},
   "outputs": [
    {
     "name": "stdout",
     "output_type": "stream",
     "text": [
      "The largest palindrome product of two 3-digit numbers is: 906609\n"
     ]
    }
   ],
   "source": [
    "max_pal = 0\n",
    "\n",
    "for i in range(999, 99, -1):\n",
    "    # Break if the maximum possible product for current i is less than the current max palindrome\n",
    "    if i * i < max_pal:\n",
    "        break\n",
    "    for j in range(i, 99, -1):\n",
    "        product = i * j\n",
    "        # Break inner loop if product is smaller than current max palindrome\n",
    "        if product < max_pal:\n",
    "            break\n",
    "        # Check if the product is a palindrome\n",
    "        if str(product) == str(product)[::-1]:\n",
    "            if product > max_pal:\n",
    "                max_pal = product\n",
    "            # Break after first palindrome for current i (since products are decreasing)\n",
    "            break\n",
    "\n",
    "print(f\"The largest palindrome product of two 3-digit numbers is: {max_pal}\")"
   ]
  },
  {
   "cell_type": "markdown",
   "metadata": {},
   "source": [
    "## Explanation\n",
    "- Palindrome Check: The product is converted to a string and compared with its reverse.\n",
    "- Efficient Looping: The outer loop starts from 999 and decreases. For each i, the inner loop starts from i and decreases to avoid checking pairs twice (since multiplication is commutative).\n",
    "\n",
    "## Early Termination:\n",
    "\n",
    "- The inner loop breaks if the product is smaller than the current largest palindrome.\n",
    "- The outer loop breaks if the maximum possible product for the current i (i.e., i * i) is smaller than the current largest palindrome."
   ]
  }
 ],
 "metadata": {
  "kernelspec": {
   "display_name": "Python 3",
   "language": "python",
   "name": "python3"
  },
  "language_info": {
   "codemirror_mode": {
    "name": "ipython",
    "version": 3
   },
   "file_extension": ".py",
   "mimetype": "text/x-python",
   "name": "python",
   "nbconvert_exporter": "python",
   "pygments_lexer": "ipython3",
   "version": "3.12.5"
  }
 },
 "nbformat": 4,
 "nbformat_minor": 2
}
