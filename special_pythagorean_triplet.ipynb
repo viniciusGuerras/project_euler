{
 "cells": [
  {
   "cell_type": "markdown",
   "metadata": {},
   "source": [
    "# Special Pythagorean Triplet"
   ]
  },
  {
   "cell_type": "markdown",
   "metadata": {},
   "source": [
    "## Problem Statement -"
   ]
  },
  {
   "cell_type": "markdown",
   "metadata": {},
   "source": [
    "A Pythagorean triplet is a set of three natural numbers, a < b < c, for which,\n",
    "$$а^2 + b^2=c^2$$\n",
    "For example, $3^2 + 4^2 = 9 + 16 = 25 = 52$\n",
    "There exists exactly one Pythagorean triplet for which $a + b + c = 1000.$\n",
    "Find the product abc."
   ]
  },
  {
   "cell_type": "markdown",
   "metadata": {},
   "source": [
    "## Answers -"
   ]
  },
  {
   "cell_type": "markdown",
   "metadata": {},
   "source": [
    "## Vini's-logic (human, some minutes)"
   ]
  },
  {
   "cell_type": "markdown",
   "metadata": {},
   "source": [
    "- Three squared numbers must be summed to reach 1000;\n",
    "- Just for fun, let's approximate it"
   ]
  },
  {
   "cell_type": "code",
   "execution_count": 92,
   "metadata": {},
   "outputs": [],
   "source": [
    "import numpy as np\n"
   ]
  },
  {
   "cell_type": "code",
   "execution_count": 93,
   "metadata": {},
   "outputs": [
    {
     "name": "stdout",
     "output_type": "stream",
     "text": [
      "Total: 999.90, Difference: 0.10, Three: [19.8592128  21.03770219 12.76458273]\n"
     ]
    }
   ],
   "source": [
    "three = np.random.rand(3)\n",
    "total = 0\n",
    "difference = 0\n",
    "while total < 999.9:\n",
    "    total = sum(three**2)\n",
    "    difference = 1000 - total\n",
    "    three += 2 * three * (difference / 1000) * 0.01\n",
    "print(f\"Total: {total:.2f}, Difference: {difference:.2f}, Three: {three}\")"
   ]
  },
  {
   "cell_type": "markdown",
   "metadata": {},
   "source": [
    "- Cool function approximation, but does not help us\n",
    "- Another method is needed\n",
    "- $32$ is the maximum before passing $1000$. $32\\cdot 32 = 1024$\n",
    "- after carefully inspecting the equations"
   ]
  },
  {
   "cell_type": "code",
   "execution_count": 94,
   "metadata": {},
   "outputs": [
    {
     "name": "stdout",
     "output_type": "stream",
     "text": [
      "The result abc = 31875000\n"
     ]
    }
   ],
   "source": [
    "for a in range(1, 500):  \n",
    "    for b in range(a + 1, 1000 - a):  \n",
    "        c = 1000 - a - b  \n",
    "        if a**2 + b**2 == c**2:  \n",
    "            print(f\"The result abc = {a * b * c}\")\n",
    "            break  "
   ]
  },
  {
   "cell_type": "markdown",
   "metadata": {},
   "source": [
    "# O3-mini (11 seconds)"
   ]
  },
  {
   "cell_type": "markdown",
   "metadata": {},
   "source": [
    "# Pythagorean Triplet Problem\n",
    "\n",
    "A *Pythagorean triplet* is a set of three natural numbers, $a < b < c$, that satisfy the equation:\n",
    "\n",
    "$$a^2 + b^2 = c^2.$$\n",
    "\n",
    "We are looking for the unique triplet where\n",
    "\n",
    "$$a + b + c = 1000.$$\n",
    "\n",
    "For example, the triplet $ (3, 4, 5) $ is Pythagorean because:\n",
    "\n",
    "$$3^2 + 4^2 = 9 + 16 = 25 = 5^2.$$\n",
    "\n",
    "The following code iterates over possible values of $a$ and $b$, computes $c = 1000 - a - b$, and checks the condition above. Once the triplet is found, it prints the values and the product $$abc$$.\n"
   ]
  },
  {
   "cell_type": "code",
   "execution_count": 95,
   "metadata": {},
   "outputs": [
    {
     "name": "stdout",
     "output_type": "stream",
     "text": [
      "Pythagorean triplet: a = 200, b = 375, c = 425\n",
      "Product abc: 31875000\n"
     ]
    }
   ],
   "source": [
    "# Function to find the Pythagorean triplet for which a + b + c equals the given sum.\n",
    "def find_pythagorean_triplet(total_sum):\n",
    "    for a in range(1, total_sum):\n",
    "        for b in range(a + 1, total_sum - a):\n",
    "            c = total_sum - a - b\n",
    "            if a**2 + b**2 == c**2 and c > b:\n",
    "                return a, b, c\n",
    "    return None, None, None\n",
    "\n",
    "# Given sum\n",
    "total_sum = 1000\n",
    "\n",
    "# Find the triplet and calculate the product\n",
    "a, b, c = find_pythagorean_triplet(total_sum)\n",
    "if a and b and c:\n",
    "    product = a * b * c\n",
    "    print(f\"Pythagorean triplet: a = {a}, b = {b}, c = {c}\")\n",
    "    print(f\"Product abc: {product}\")\n",
    "else:\n",
    "    print(\"No triplet found that satisfies the conditions.\")\n"
   ]
  },
  {
   "cell_type": "markdown",
   "metadata": {},
   "source": [
    "## DeepSeek-R1 (235 seconds)"
   ]
  },
  {
   "cell_type": "markdown",
   "metadata": {},
   "source": [
    "### Step-by-Step Explanation of the Pythagorean Triplet Problem\n",
    "\n",
    "### 1. Understand the Problem\n",
    "We need three natural numbers $a < b < c$ such that\n",
    "$$a^2 + b^2 = c^2,$$\n",
    "and their sum is $1000$. The goal is to find their product $abc$.\n",
    "\n",
    "Given:\n",
    "$a + b + c = 1000,$\n",
    "we can express $c$ as:\n",
    "$c = 1000 - a - b.$\n",
    "\n",
    "Substitute $c = 1000 - a - b$ into the Pythagorean equation:\n",
    "$$a^2 + b^2 = (1000 - a - b)^2.$$\n",
    "\n",
    "Expanding and simplifying leads to the equation:\n",
    "$ab - 1000a - 1000b + 500000 = 0.$\n",
    "This can be factorized into:\n",
    "$(a - 1000)(b - 1000) = 500000.$\n",
    "\n",
    "Find pairs of factors of $500000$ where both factors are less than $1000$ and maintain the condition $a < b < c$.\n",
    "\n",
    "The valid factor pair is:\n",
    "$d = 800 \\quad \\text{and} \\quad e = 625,$\n",
    "which leads to the triplet:\n",
    "$a = 200,\\quad b = 375,\\quad c = 425.$\n",
    "\n",
    "Compute the product:\n",
    "$$abc = 200 \\times 375 \\times 425 = 31875000.$$\n"
   ]
  },
  {
   "cell_type": "code",
   "execution_count": 96,
   "metadata": {},
   "outputs": [
    {
     "name": "stdout",
     "output_type": "stream",
     "text": [
      "Triplet found: a=200, b=375, c=425\n",
      "Product abc = 31875000\n"
     ]
    }
   ],
   "source": [
    "for k in range(500, 1000):\n",
    "    if 500000 % k == 0:\n",
    "        m = 500000 // k\n",
    "        if m < k:\n",
    "            a = 1000 - k\n",
    "            b = 1000 - m\n",
    "            c = 1000 - a - b\n",
    "            if a > 0 and b > 0 and c > 0 and a < b:\n",
    "                if a**2 + b**2 == c**2:\n",
    "                    print(f\"Triplet found: a={a}, b={b}, c={c}\")\n",
    "                    print(f\"Product abc = {a * b * c}\")\n",
    "                    break"
   ]
  }
 ],
 "metadata": {
  "kernelspec": {
   "display_name": "Python 3",
   "language": "python",
   "name": "python3"
  },
  "language_info": {
   "codemirror_mode": {
    "name": "ipython",
    "version": 3
   },
   "file_extension": ".py",
   "mimetype": "text/x-python",
   "name": "python",
   "nbconvert_exporter": "python",
   "pygments_lexer": "ipython3",
   "version": "3.11.9"
  }
 },
 "nbformat": 4,
 "nbformat_minor": 2
}
