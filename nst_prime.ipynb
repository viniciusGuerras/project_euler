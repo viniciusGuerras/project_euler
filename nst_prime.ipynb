{
 "cells": [
  {
   "cell_type": "markdown",
   "metadata": {},
   "source": [
    "# 10001st Prime"
   ]
  },
  {
   "cell_type": "markdown",
   "metadata": {},
   "source": [
    "## Problem Statement -"
   ]
  },
  {
   "cell_type": "markdown",
   "metadata": {},
   "source": [
    "By listing the first six prime numbers: $2, 3, 5, 7, 11,$ and $13,$ we can see that the 6th prime is $13$.\n",
    "What is the $10001$ st prime number?"
   ]
  },
  {
   "cell_type": "markdown",
   "metadata": {},
   "source": [
    "## Answers -"
   ]
  },
  {
   "cell_type": "markdown",
   "metadata": {},
   "source": [
    "## Vini's-logic (human, some minutes)"
   ]
  },
  {
   "cell_type": "markdown",
   "metadata": {},
   "source": [
    "- We need to find a big prime number\n",
    "- Let's try to find a relation in the above ones\n",
    "$$\n",
    "2 = n(n + 1) \\text{for}\\;n = 1,\n",
    "\\\\\n",
    "6 = n(n + 1) \\text{for}\\;n = 2,\n",
    "$$\n",
    "- It doesn't hold for 2, let's try dividing by 2  \n",
    "$$\n",
    "3 = \\frac{n(n + 1)}{2} \\text{for}\\;n = 2,\n",
    "\\\\\n",
    "6 = \\frac{n(n + 1)}{2} \\text{for}\\;n = 3,\n",
    "$$ \n",
    "- Didn't hold, I'll try to code a solution with brute-force"
   ]
  },
  {
   "cell_type": "code",
   "execution_count": 54,
   "metadata": {},
   "outputs": [],
   "source": [
    "import math"
   ]
  },
  {
   "cell_type": "markdown",
   "metadata": {},
   "source": [
    "- For prime number checking i removed the even's after 2\n",
    "- Created a function as a Prime test"
   ]
  },
  {
   "cell_type": "code",
   "execution_count": 55,
   "metadata": {},
   "outputs": [
    {
     "name": "stdout",
     "output_type": "stream",
     "text": [
      "the 10_001 prime number is: 104743\n"
     ]
    }
   ],
   "source": [
    "def isPrime(x):\n",
    "    if(x < 2):\n",
    "        return False\n",
    "    if(x==2):\n",
    "        return True\n",
    "\n",
    "    for i in range(3, int(math.sqrt(x)) + 1):\n",
    "        if x%i==0:\n",
    "            return False\n",
    "        i+=2\n",
    "    return True\n",
    "\n",
    "primeCount = 1\n",
    "iterator = 1\n",
    "while primeCount < 10_001:\n",
    "    iterator += 2\n",
    "    if(isPrime(iterator)):\n",
    "        primeCount+=1\n",
    "\n",
    "print(f\"the 10_001 prime number is: {iterator}\")"
   ]
  },
  {
   "cell_type": "markdown",
   "metadata": {},
   "source": [
    "## O3-mini (12 seconds)\n"
   ]
  },
  {
   "cell_type": "markdown",
   "metadata": {},
   "source": [
    "### Explanation  \n",
    "\n",
    "We need to find the $10001$st prime number. The approach is as follows:  \n",
    "\n",
    "#### Primality Test:  \n",
    "We define a function `is_prime(n)` that checks whether a given number $n$ is prime. The function:  \n",
    "- Returns `False` for $n < 2$.  \n",
    "- Checks divisibility by $2$.  \n",
    "- Tests potential factors up to $\\sqrt{n}$, incrementing by $2$ to skip even numbers.  \n",
    "\n",
    "#### Counting Primes:  \n",
    "We initialize a counter and start testing numbers from $2$ onward. Each time we find a prime, we increment the counter. Once the counter reaches $10001$, the current number is our answer.  \n",
    "\n",
    "#### Output:  \n",
    "Finally, we print the number which is the $10001$st prime.  \n"
   ]
  },
  {
   "cell_type": "code",
   "execution_count": 56,
   "metadata": {},
   "outputs": [
    {
     "name": "stdout",
     "output_type": "stream",
     "text": [
      "The 10001st prime number is: 104743\n"
     ]
    }
   ],
   "source": [
    "def is_prime(n):\n",
    "    \"\"\"\n",
    "    Check if n is a prime number.\n",
    "    \n",
    "    Parameters:\n",
    "    n (int): The number to check.\n",
    "    \n",
    "    Returns:\n",
    "    bool: True if n is prime, False otherwise.\n",
    "    \"\"\"\n",
    "    if n < 2:\n",
    "        return False\n",
    "    if n == 2:\n",
    "        return True\n",
    "    if n % 2 == 0:\n",
    "        return False\n",
    "    # Check divisibility from 3 up to sqrt(n)\n",
    "    for i in range(3, int(n**0.5) + 1, 2):\n",
    "        if n % i == 0:\n",
    "            return False\n",
    "    return True\n",
    "\n",
    "# Initialize counter and starting number\n",
    "prime_count = 0\n",
    "num = 1\n",
    "\n",
    "# Loop until we find the 10001st prime\n",
    "while prime_count < 10001:\n",
    "    num += 1\n",
    "    if is_prime(num):\n",
    "        prime_count += 1\n",
    "\n",
    "print(\"The 10001st prime number is:\", num)\n"
   ]
  },
  {
   "cell_type": "markdown",
   "metadata": {},
   "source": [
    "## DeepSeek-R1 (352 seconds)"
   ]
  },
  {
   "cell_type": "markdown",
   "metadata": {},
   "source": [
    "To solve the problem of finding the 10001st prime number, we can efficiently use the Sieve of Eratosthenes algorithm. This algorithm is well-suited for generating all prime numbers up to a specified limit, which we estimate using a mathematical approximation for the nth prime number.\n",
    "\n",
    "Approach\n",
    "Estimate the Upper Bound: The nth prime number is approximately given by the formula \n",
    "$$\n",
    "n × (ln( n) + ln⁡(ln(n))). \n",
    "$$\n",
    "For\n",
    "$$\n",
    "n = 10001\n",
    "$$\n",
    "n=10001, this formula gives an upper bound around 114,307. To ensure we capture the 10001st prime, we round up this estimate to 120,000.\n",
    "\n",
    "Sieve of Eratosthenes: This algorithm efficiently generates all primes up to the specified upper bound. It works by iteratively marking the multiples of each prime starting from 2, and the remaining unmarked numbers are primes.\n",
    "\n",
    "Extract the 10001st Prime: After generating all primes up to 120,000, we simply access the 10001st element (0-indexed) from the list of primes.\n",
    "\n",
    "Solution Code"
   ]
  },
  {
   "cell_type": "code",
   "execution_count": 57,
   "metadata": {},
   "outputs": [
    {
     "name": "stdout",
     "output_type": "stream",
     "text": [
      "The 10001st prime number is 104743\n"
     ]
    }
   ],
   "source": [
    "import math\n",
    "\n",
    "def sieve(n):\n",
    "    sieve = [True] * (n + 1)\n",
    "    sieve[0] = sieve[1] = False\n",
    "    for i in range(2, math.isqrt(n) + 1):\n",
    "        if sieve[i]:\n",
    "            sieve[i*i : n+1 : i] = [False] * len(sieve[i*i : n+1 : i])\n",
    "    return [i for i, is_prime in enumerate(sieve) if is_prime]\n",
    "\n",
    "# Estimate upper bound for the 10001st prime\n",
    "upper_bound = 120000\n",
    "primes = sieve(upper_bound)\n",
    "\n",
    "# The 10001st prime is at index 10000 (0-based indexing)\n",
    "print(f\"The 10001st prime number is {primes[10000]}\")"
   ]
  }
 ],
 "metadata": {
  "kernelspec": {
   "display_name": "Python 3",
   "language": "python",
   "name": "python3"
  },
  "language_info": {
   "codemirror_mode": {
    "name": "ipython",
    "version": 3
   },
   "file_extension": ".py",
   "mimetype": "text/x-python",
   "name": "python",
   "nbconvert_exporter": "python",
   "pygments_lexer": "ipython3",
   "version": "3.12.1"
  }
 },
 "nbformat": 4,
 "nbformat_minor": 2
}
